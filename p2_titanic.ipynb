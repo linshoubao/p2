{
 "cells": [
  {
   "cell_type": "markdown",
   "metadata": {},
   "source": [
    "Q:哪些因素会影响船员的生还率？"
   ]
  },
  {
   "cell_type": "code",
   "execution_count": 1,
   "metadata": {
    "collapsed": true
   },
   "outputs": [],
   "source": [
    "import unicodecsv         #创建读取数据的函数\n",
    "\n",
    "def read_csv(filename):\n",
    "    with open(filename,'rb') as f:\n",
    "        reader=unicodecsv.DictReader(f)\n",
    "        return list(reader)"
   ]
  },
  {
   "cell_type": "code",
   "execution_count": 2,
   "metadata": {
    "collapsed": true
   },
   "outputs": [],
   "source": [
    "titanic_data=read_csv(r'C:\\Users\\linshoubao\\Downloads\\P2\\titanic-data.csv')  #导入数据到titanic_data中"
   ]
  },
  {
   "cell_type": "code",
   "execution_count": 3,
   "metadata": {},
   "outputs": [
    {
     "data": {
      "text/plain": [
       "{u'Age': u'22',\n",
       " u'Cabin': u'',\n",
       " u'Embarked': u'S',\n",
       " u'Fare': u'7.25',\n",
       " u'Name': u'Braund, Mr. Owen Harris',\n",
       " u'Parch': u'0',\n",
       " u'PassengerId': u'1',\n",
       " u'Pclass': u'3',\n",
       " u'Sex': u'male',\n",
       " u'SibSp': u'1',\n",
       " u'Survived': u'0',\n",
       " u'Ticket': u'A/5 21171'}"
      ]
     },
     "execution_count": 3,
     "metadata": {},
     "output_type": "execute_result"
    }
   ],
   "source": [
    "titanic_data[0]   #确认数据是否导入"
   ]
  },
  {
   "cell_type": "code",
   "execution_count": 4,
   "metadata": {},
   "outputs": [
    {
     "data": {
      "text/plain": [
       "891"
      ]
     },
     "execution_count": 4,
     "metadata": {},
     "output_type": "execute_result"
    }
   ],
   "source": [
    "len(titanic_data)  #查看数据数目"
   ]
  },
  {
   "cell_type": "code",
   "execution_count": 5,
   "metadata": {
    "collapsed": true
   },
   "outputs": [],
   "source": [
    "for titanic_record in titanic_data:             #修改用到的数据类型\n",
    "    titanic_record['Survived']=int(titanic_record['Survived'])"
   ]
  },
  {
   "cell_type": "markdown",
   "metadata": {},
   "source": [
    "Q1：性别是不是影响生还率的因素？"
   ]
  },
  {
   "cell_type": "code",
   "execution_count": 6,
   "metadata": {
    "collapsed": true
   },
   "outputs": [],
   "source": [
    "num_female=0  #统计女性人数\n",
    "num_male=0  #统计男性人数\n",
    "for sex in titanic_data:\n",
    "    if sex['Sex']=='female':\n",
    "        num_female +=1\n",
    "    else:\n",
    "        num_male +=1"
   ]
  },
  {
   "cell_type": "code",
   "execution_count": 7,
   "metadata": {},
   "outputs": [
    {
     "name": "stdout",
     "output_type": "stream",
     "text": [
      "船上女性：314 人,男性：577 人\n"
     ]
    }
   ],
   "source": [
    "print  '船上女性：%s 人,男性：%s 人' % (num_female,num_male)  "
   ]
  },
  {
   "cell_type": "markdown",
   "metadata": {},
   "source": [
    "我们可以将上面的数据绘成图"
   ]
  },
  {
   "cell_type": "code",
   "execution_count": 8,
   "metadata": {
    "collapsed": true
   },
   "outputs": [],
   "source": [
    "import pandas as pd   #导入pandas和numpy包\n",
    "import numpy as np"
   ]
  },
  {
   "cell_type": "code",
   "execution_count": 9,
   "metadata": {
    "collapsed": true
   },
   "outputs": [],
   "source": [
    "titanic_data_frame=pd.DataFrame(titanic_data) #将数据转换成数据框格式，赋值到titanic_data_frame中"
   ]
  },
  {
   "cell_type": "code",
   "execution_count": 10,
   "metadata": {},
   "outputs": [
    {
     "data": {
      "text/html": [
       "<div>\n",
       "<style>\n",
       "    .dataframe thead tr:only-child th {\n",
       "        text-align: right;\n",
       "    }\n",
       "\n",
       "    .dataframe thead th {\n",
       "        text-align: left;\n",
       "    }\n",
       "\n",
       "    .dataframe tbody tr th {\n",
       "        vertical-align: top;\n",
       "    }\n",
       "</style>\n",
       "<table border=\"1\" class=\"dataframe\">\n",
       "  <thead>\n",
       "    <tr style=\"text-align: right;\">\n",
       "      <th></th>\n",
       "      <th>Age</th>\n",
       "      <th>Cabin</th>\n",
       "      <th>Embarked</th>\n",
       "      <th>Fare</th>\n",
       "      <th>Name</th>\n",
       "      <th>Parch</th>\n",
       "      <th>PassengerId</th>\n",
       "      <th>Pclass</th>\n",
       "      <th>Sex</th>\n",
       "      <th>SibSp</th>\n",
       "      <th>Survived</th>\n",
       "      <th>Ticket</th>\n",
       "    </tr>\n",
       "  </thead>\n",
       "  <tbody>\n",
       "    <tr>\n",
       "      <th>0</th>\n",
       "      <td>22</td>\n",
       "      <td></td>\n",
       "      <td>S</td>\n",
       "      <td>7.25</td>\n",
       "      <td>Braund, Mr. Owen Harris</td>\n",
       "      <td>0</td>\n",
       "      <td>1</td>\n",
       "      <td>3</td>\n",
       "      <td>male</td>\n",
       "      <td>1</td>\n",
       "      <td>0</td>\n",
       "      <td>A/5 21171</td>\n",
       "    </tr>\n",
       "    <tr>\n",
       "      <th>1</th>\n",
       "      <td>38</td>\n",
       "      <td>C85</td>\n",
       "      <td>C</td>\n",
       "      <td>71.2833</td>\n",
       "      <td>Cumings, Mrs. John Bradley (Florence Briggs Th...</td>\n",
       "      <td>0</td>\n",
       "      <td>2</td>\n",
       "      <td>1</td>\n",
       "      <td>female</td>\n",
       "      <td>1</td>\n",
       "      <td>1</td>\n",
       "      <td>PC 17599</td>\n",
       "    </tr>\n",
       "    <tr>\n",
       "      <th>2</th>\n",
       "      <td>26</td>\n",
       "      <td></td>\n",
       "      <td>S</td>\n",
       "      <td>7.925</td>\n",
       "      <td>Heikkinen, Miss. Laina</td>\n",
       "      <td>0</td>\n",
       "      <td>3</td>\n",
       "      <td>3</td>\n",
       "      <td>female</td>\n",
       "      <td>0</td>\n",
       "      <td>1</td>\n",
       "      <td>STON/O2. 3101282</td>\n",
       "    </tr>\n",
       "    <tr>\n",
       "      <th>3</th>\n",
       "      <td>35</td>\n",
       "      <td>C123</td>\n",
       "      <td>S</td>\n",
       "      <td>53.1</td>\n",
       "      <td>Futrelle, Mrs. Jacques Heath (Lily May Peel)</td>\n",
       "      <td>0</td>\n",
       "      <td>4</td>\n",
       "      <td>1</td>\n",
       "      <td>female</td>\n",
       "      <td>1</td>\n",
       "      <td>1</td>\n",
       "      <td>113803</td>\n",
       "    </tr>\n",
       "    <tr>\n",
       "      <th>4</th>\n",
       "      <td>35</td>\n",
       "      <td></td>\n",
       "      <td>S</td>\n",
       "      <td>8.05</td>\n",
       "      <td>Allen, Mr. William Henry</td>\n",
       "      <td>0</td>\n",
       "      <td>5</td>\n",
       "      <td>3</td>\n",
       "      <td>male</td>\n",
       "      <td>0</td>\n",
       "      <td>0</td>\n",
       "      <td>373450</td>\n",
       "    </tr>\n",
       "  </tbody>\n",
       "</table>\n",
       "</div>"
      ],
      "text/plain": [
       "  Age Cabin Embarked     Fare  \\\n",
       "0  22              S     7.25   \n",
       "1  38   C85        C  71.2833   \n",
       "2  26              S    7.925   \n",
       "3  35  C123        S     53.1   \n",
       "4  35              S     8.05   \n",
       "\n",
       "                                                Name Parch PassengerId Pclass  \\\n",
       "0                            Braund, Mr. Owen Harris     0           1      3   \n",
       "1  Cumings, Mrs. John Bradley (Florence Briggs Th...     0           2      1   \n",
       "2                             Heikkinen, Miss. Laina     0           3      3   \n",
       "3       Futrelle, Mrs. Jacques Heath (Lily May Peel)     0           4      1   \n",
       "4                           Allen, Mr. William Henry     0           5      3   \n",
       "\n",
       "      Sex SibSp  Survived            Ticket  \n",
       "0    male     1         0         A/5 21171  \n",
       "1  female     1         1          PC 17599  \n",
       "2  female     0         1  STON/O2. 3101282  \n",
       "3  female     1         1            113803  \n",
       "4    male     0         0            373450  "
      ]
     },
     "execution_count": 10,
     "metadata": {},
     "output_type": "execute_result"
    }
   ],
   "source": [
    "titanic_data_frame.head()   #导出前5行的数据，确认是否转换成功"
   ]
  },
  {
   "cell_type": "code",
   "execution_count": 11,
   "metadata": {},
   "outputs": [
    {
     "name": "stdout",
     "output_type": "stream",
     "text": [
      "Populating the interactive namespace from numpy and matplotlib\n"
     ]
    }
   ],
   "source": [
    "# 导入绘图用的包\n",
    "%pylab inline      \n",
    "import matplotlib.pyplot as plt\n",
    "import seaborn as sns"
   ]
  },
  {
   "cell_type": "code",
   "execution_count": 12,
   "metadata": {},
   "outputs": [
    {
     "data": {
      "text/plain": [
       "<seaborn.axisgrid.FacetGrid at 0x8f86c88>"
      ]
     },
     "execution_count": 12,
     "metadata": {},
     "output_type": "execute_result"
    },
    {
     "data": {
      "image/png": "[encoded data removed]",
      "text/plain": [
       "<matplotlib.figure.Figure at 0x62c61d0>"
      ]
     },
     "metadata": {},
     "output_type": "display_data"
    }
   ],
   "source": [
    "sns.factorplot('Sex',data=titanic_data_frame,kind='count')   #利用针对数据框数据的绘图函数"
   ]
  },
  {
   "cell_type": "markdown",
   "metadata": {},
   "source": [
    "同时利用上面方法绘出男性、女性中是否生还的情况"
   ]
  },
  {
   "cell_type": "code",
   "execution_count": 13,
   "metadata": {},
   "outputs": [
    {
     "data": {
      "text/plain": [
       "<seaborn.axisgrid.FacetGrid at 0xc12fda0>"
      ]
     },
     "execution_count": 13,
     "metadata": {},
     "output_type": "execute_result"
    },
    {
     "data": {
      "image/png": "[encoded data removed]",
      "text/plain": [
       "<matplotlib.figure.Figure at 0xbfb6198>"
      ]
     },
     "metadata": {},
     "output_type": "display_data"
    }
   ],
   "source": [
    "sns.factorplot('Sex',data=titanic_data_frame,hue='Survived',kind='count') "
   ]
  },
  {
   "cell_type": "markdown",
   "metadata": {},
   "source": [
    "从图中我们可以看出男性死亡人数远远超过了女性死亡人数，我们可以确定男性的死亡率高，女性的生还率高，下面计算确切的数据"
   ]
  },
  {
   "cell_type": "code",
   "execution_count": 14,
   "metadata": {
    "collapsed": true
   },
   "outputs": [],
   "source": [
    "sex_survived_data=titanic_data_frame.groupby(['Sex','Survived'],as_index=False).count()   #通过'Sex','Survived'进行分组，并进行计数统计"
   ]
  },
  {
   "cell_type": "code",
   "execution_count": 15,
   "metadata": {},
   "outputs": [
    {
     "data": {
      "text/html": [
       "<div>\n",
       "<style>\n",
       "    .dataframe thead tr:only-child th {\n",
       "        text-align: right;\n",
       "    }\n",
       "\n",
       "    .dataframe thead th {\n",
       "        text-align: left;\n",
       "    }\n",
       "\n",
       "    .dataframe tbody tr th {\n",
       "        vertical-align: top;\n",
       "    }\n",
       "</style>\n",
       "<table border=\"1\" class=\"dataframe\">\n",
       "  <thead>\n",
       "    <tr style=\"text-align: right;\">\n",
       "      <th></th>\n",
       "      <th>Sex</th>\n",
       "      <th>Survived</th>\n",
       "      <th>Age</th>\n",
       "      <th>Cabin</th>\n",
       "      <th>Embarked</th>\n",
       "      <th>Fare</th>\n",
       "      <th>Name</th>\n",
       "      <th>Parch</th>\n",
       "      <th>PassengerId</th>\n",
       "      <th>Pclass</th>\n",
       "      <th>SibSp</th>\n",
       "      <th>Ticket</th>\n",
       "    </tr>\n",
       "  </thead>\n",
       "  <tbody>\n",
       "    <tr>\n",
       "      <th>0</th>\n",
       "      <td>female</td>\n",
       "      <td>0</td>\n",
       "      <td>81</td>\n",
       "      <td>81</td>\n",
       "      <td>81</td>\n",
       "      <td>81</td>\n",
       "      <td>81</td>\n",
       "      <td>81</td>\n",
       "      <td>81</td>\n",
       "      <td>81</td>\n",
       "      <td>81</td>\n",
       "      <td>81</td>\n",
       "    </tr>\n",
       "    <tr>\n",
       "      <th>1</th>\n",
       "      <td>female</td>\n",
       "      <td>1</td>\n",
       "      <td>233</td>\n",
       "      <td>233</td>\n",
       "      <td>233</td>\n",
       "      <td>233</td>\n",
       "      <td>233</td>\n",
       "      <td>233</td>\n",
       "      <td>233</td>\n",
       "      <td>233</td>\n",
       "      <td>233</td>\n",
       "      <td>233</td>\n",
       "    </tr>\n",
       "    <tr>\n",
       "      <th>2</th>\n",
       "      <td>male</td>\n",
       "      <td>0</td>\n",
       "      <td>468</td>\n",
       "      <td>468</td>\n",
       "      <td>468</td>\n",
       "      <td>468</td>\n",
       "      <td>468</td>\n",
       "      <td>468</td>\n",
       "      <td>468</td>\n",
       "      <td>468</td>\n",
       "      <td>468</td>\n",
       "      <td>468</td>\n",
       "    </tr>\n",
       "    <tr>\n",
       "      <th>3</th>\n",
       "      <td>male</td>\n",
       "      <td>1</td>\n",
       "      <td>109</td>\n",
       "      <td>109</td>\n",
       "      <td>109</td>\n",
       "      <td>109</td>\n",
       "      <td>109</td>\n",
       "      <td>109</td>\n",
       "      <td>109</td>\n",
       "      <td>109</td>\n",
       "      <td>109</td>\n",
       "      <td>109</td>\n",
       "    </tr>\n",
       "  </tbody>\n",
       "</table>\n",
       "</div>"
      ],
      "text/plain": [
       "      Sex  Survived  Age  Cabin  Embarked  Fare  Name  Parch  PassengerId  \\\n",
       "0  female         0   81     81        81    81    81     81           81   \n",
       "1  female         1  233    233       233   233   233    233          233   \n",
       "2    male         0  468    468       468   468   468    468          468   \n",
       "3    male         1  109    109       109   109   109    109          109   \n",
       "\n",
       "   Pclass  SibSp  Ticket  \n",
       "0      81     81      81  \n",
       "1     233    233     233  \n",
       "2     468    468     468  \n",
       "3     109    109     109  "
      ]
     },
     "execution_count": 15,
     "metadata": {},
     "output_type": "execute_result"
    }
   ],
   "source": [
    "sex_survived_data   #因为是计数统计，因此表中的数据都是一致的，下面将利用‘Age’列中的数据进行计算"
   ]
  },
  {
   "cell_type": "code",
   "execution_count": 16,
   "metadata": {},
   "outputs": [
    {
     "name": "stdout",
     "output_type": "stream",
     "text": [
      "女性 死亡率:\n",
      "0.257961783439\n",
      "女性 生还率:\n",
      "0.742038216561\n",
      "男性 死亡率:\n",
      "0.811091854419\n",
      "男性 生还率:\n",
      "0.188908145581\n"
     ]
    }
   ],
   "source": [
    "from __future__ import division    #导入类__future__进行小数计算\n",
    "print '女性 死亡率:'\n",
    "print sex_survived_data.iloc[0,2]/(sex_survived_data.iloc[0,2]+sex_survived_data.iloc[1,2])\n",
    "print '女性 生还率:' \n",
    "print sex_survived_data.iloc[1,2]/(sex_survived_data.iloc[0,2]+sex_survived_data.iloc[1,2])\n",
    "print '男性 死亡率:' \n",
    "print sex_survived_data.iloc[2,2]/(sex_survived_data.iloc[2,2]+sex_survived_data.iloc[3,2])\n",
    "print '男性 生还率:' \n",
    "print sex_survived_data.iloc[3,2]/(sex_survived_data.iloc[2,2]+sex_survived_data.iloc[3,2])"
   ]
  },
  {
   "cell_type": "markdown",
   "metadata": {},
   "source": [
    "通过分别计算女性、男性的死亡率、生还率，可以看出男性的死亡率明显高于女性，相反女性的生还率明显高于男性，这可能是由于当时的救人策略：女性优先于男性，登上逃生船。"
   ]
  },
  {
   "cell_type": "markdown",
   "metadata": {},
   "source": [
    "Q2：:船舱的等级是否会影响生还率？"
   ]
  },
  {
   "cell_type": "code",
   "execution_count": 17,
   "metadata": {},
   "outputs": [
    {
     "data": {
      "text/plain": [
       "<seaborn.axisgrid.FacetGrid at 0x8f66c88>"
      ]
     },
     "execution_count": 17,
     "metadata": {},
     "output_type": "execute_result"
    },
    {
     "data": {
      "image/png": "[encoded data removed]",
      "text/plain": [
       "<matplotlib.figure.Figure at 0xc2a64e0>"
      ]
     },
     "metadata": {},
     "output_type": "display_data"
    }
   ],
   "source": [
    "sns.factorplot('Pclass',data=titanic_data_frame,kind='count')  #绘出不同等级船舱的人数"
   ]
  },
  {
   "cell_type": "code",
   "execution_count": 18,
   "metadata": {},
   "outputs": [
    {
     "data": {
      "text/plain": [
       "<seaborn.axisgrid.FacetGrid at 0xc701d30>"
      ]
     },
     "execution_count": 18,
     "metadata": {},
     "output_type": "execute_result"
    },
    {
     "data": {
      "image/png": "[encoded data removed]",
      "text/plain": [
       "<matplotlib.figure.Figure at 0xc1efb70>"
      ]
     },
     "metadata": {},
     "output_type": "display_data"
    }
   ],
   "source": [
    "sns.factorplot('Pclass',data=titanic_data_frame,hue='Survived',kind='count')  #绘出不同等级船舱人员的死亡、生还情况"
   ]
  },
  {
   "cell_type": "markdown",
   "metadata": {},
   "source": [
    "从图中可以看出，三等舱死亡人数最多，下面计算不同舱等的死亡率、生还率。"
   ]
  },
  {
   "cell_type": "code",
   "execution_count": 19,
   "metadata": {
    "collapsed": true
   },
   "outputs": [],
   "source": [
    "def survived_and_died_rate(data):                       #创建survived_and_died_rate函数，利用titanic_data数据进行死亡率、生还率计算\n",
    "    data_survived=[]\n",
    "    data_died=[]\n",
    "    for data_record in data:\n",
    "        if data_record['Survived']==0:\n",
    "            data_died.append(data_record)\n",
    "        else:\n",
    "            data_survived.append(data_record)\n",
    "    return  len(data_survived)/len(data),len(data_died)/len(data)"
   ]
  },
  {
   "cell_type": "code",
   "execution_count": 20,
   "metadata": {},
   "outputs": [
    {
     "data": {
      "text/plain": [
       "(216, 184, 491)"
      ]
     },
     "execution_count": 20,
     "metadata": {},
     "output_type": "execute_result"
    }
   ],
   "source": [
    "first_class=[]   #一等舱\n",
    "second_class=[]  #二等舱\n",
    "third_class=[]   #三等舱\n",
    "for class_record in titanic_data:\n",
    "    if class_record['Pclass']=='1':\n",
    "        first_class.append(class_record)\n",
    "    elif class_record['Pclass']=='2':\n",
    "        second_class.append(class_record)\n",
    "    else:\n",
    "        third_class.append(class_record)\n",
    "len(first_class),len(second_class),len(third_class)"
   ]
  },
  {
   "cell_type": "code",
   "execution_count": 21,
   "metadata": {},
   "outputs": [
    {
     "name": "stdout",
     "output_type": "stream",
     "text": [
      "一等舱生还率：0.62962962963,一等舱死亡率：0.37037037037\n",
      "二等舱生还率：0.472826086957,二等舱死亡率：0.527173913043\n",
      "三等舱生还率：0.242362525458,三等舱死亡率：0.757637474542\n"
     ]
    }
   ],
   "source": [
    "print '一等舱生还率：%s,一等舱死亡率：%s' %(survived_and_died_rate(first_class))\n",
    "print '二等舱生还率：%s,二等舱死亡率：%s' %(survived_and_died_rate(second_class))\n",
    "print '三等舱生还率：%s,三等舱死亡率：%s' %(survived_and_died_rate(third_class))"
   ]
  },
  {
   "cell_type": "markdown",
   "metadata": {},
   "source": [
    "从上面数据中可以看出，一等舱的生还率最高，三等舱的死亡率最高，可能原因是：三等舱人员多，船舱位置靠内、靠下，逃生难度大，\n",
    "而一等舱人员少，船舱位置靠上利于逃生。"
   ]
  },
  {
   "cell_type": "markdown",
   "metadata": {},
   "source": [
    "Q3:出发港口会不会影响生还率？"
   ]
  },
  {
   "cell_type": "code",
   "execution_count": 22,
   "metadata": {},
   "outputs": [
    {
     "data": {
      "text/plain": [
       "<seaborn.axisgrid.FacetGrid at 0xc3e6e80>"
      ]
     },
     "execution_count": 22,
     "metadata": {},
     "output_type": "execute_result"
    },
    {
     "data": {
      "image/png": "[encoded data removed]",
      "text/plain": [
       "<matplotlib.figure.Figure at 0xc7ede48>"
      ]
     },
     "metadata": {},
     "output_type": "display_data"
    }
   ],
   "source": [
    "sns.factorplot('Embarked',data=titanic_data_frame,kind='count') # 绘制不同港口出发的人员情况"
   ]
  },
  {
   "cell_type": "code",
   "execution_count": 23,
   "metadata": {},
   "outputs": [
    {
     "data": {
      "text/plain": [
       "<seaborn.axisgrid.FacetGrid at 0xc7e13c8>"
      ]
     },
     "execution_count": 23,
     "metadata": {},
     "output_type": "execute_result"
    },
    {
     "data": {
      "image/png": "[encoded data removed]",
      "text/plain": [
       "<matplotlib.figure.Figure at 0x9e2b048>"
      ]
     },
     "metadata": {},
     "output_type": "display_data"
    }
   ],
   "source": [
    "sns.factorplot('Embarked',data=titanic_data_frame,hue='Survived',kind='count')  #绘制不同港口出发人员的死亡、生还情况"
   ]
  },
  {
   "cell_type": "markdown",
   "metadata": {},
   "source": [
    "从上图可以看出从Southampton港口出发的人员中死亡人员最多，下面计算不同港口的死亡率、生还率"
   ]
  },
  {
   "cell_type": "code",
   "execution_count": 24,
   "metadata": {
    "collapsed": true
   },
   "outputs": [],
   "source": [
    "Cherbourg=[]   #C港口\n",
    "Queenstown=[]  #Q港口\n",
    "Southampton=[] #S港口\n",
    "for embarked_record in titanic_data:\n",
    "    if embarked_record['Embarked']=='S':\n",
    "        Southampton.append(embarked_record)\n",
    "    elif embarked_record['Embarked']=='Q':\n",
    "        Queenstown.append(embarked_record)\n",
    "    else:\n",
    "        Cherbourg.append(embarked_record)"
   ]
  },
  {
   "cell_type": "code",
   "execution_count": 25,
   "metadata": {},
   "outputs": [
    {
     "name": "stdout",
     "output_type": "stream",
     "text": [
      "C港口存活率：0.558823529412,C港口死亡率：0.441176470588\n",
      "Q港口存活率：0.38961038961,Q港口死亡率：0.61038961039\n",
      "S港口存活率：0.336956521739,S港口死亡率：0.663043478261\n"
     ]
    }
   ],
   "source": [
    "print 'C港口存活率：%s,C港口死亡率：%s' %(survived_and_died_rate(Cherbourg))\n",
    "print 'Q港口存活率：%s,Q港口死亡率：%s' %(survived_and_died_rate(Queenstown))\n",
    "print 'S港口存活率：%s,S港口死亡率：%s' %(survived_and_died_rate(Southampton))"
   ]
  },
  {
   "cell_type": "markdown",
   "metadata": {},
   "source": [
    "除了出发港为Cherbourg的生还率高，其他港口生还率较低，同时不同港口出发的人员数量相差太大，因此出发港口是否是影响生还率的因素有待商榷。"
   ]
  },
  {
   "cell_type": "markdown",
   "metadata": {},
   "source": [
    "Q4：年龄是不是影响生还率的因素？"
   ]
  },
  {
   "cell_type": "code",
   "execution_count": 26,
   "metadata": {},
   "outputs": [
    {
     "data": {
      "text/html": [
       "<div>\n",
       "<style>\n",
       "    .dataframe thead tr:only-child th {\n",
       "        text-align: right;\n",
       "    }\n",
       "\n",
       "    .dataframe thead th {\n",
       "        text-align: left;\n",
       "    }\n",
       "\n",
       "    .dataframe tbody tr th {\n",
       "        vertical-align: top;\n",
       "    }\n",
       "</style>\n",
       "<table border=\"1\" class=\"dataframe\">\n",
       "  <thead>\n",
       "    <tr style=\"text-align: right;\">\n",
       "      <th></th>\n",
       "      <th>Age</th>\n",
       "      <th>Cabin</th>\n",
       "      <th>Embarked</th>\n",
       "      <th>Fare</th>\n",
       "      <th>Name</th>\n",
       "      <th>Parch</th>\n",
       "      <th>PassengerId</th>\n",
       "      <th>Pclass</th>\n",
       "      <th>Sex</th>\n",
       "      <th>SibSp</th>\n",
       "      <th>Survived</th>\n",
       "      <th>Ticket</th>\n",
       "    </tr>\n",
       "  </thead>\n",
       "  <tbody>\n",
       "    <tr>\n",
       "      <th>0</th>\n",
       "      <td>22</td>\n",
       "      <td></td>\n",
       "      <td>S</td>\n",
       "      <td>7.25</td>\n",
       "      <td>Braund, Mr. Owen Harris</td>\n",
       "      <td>0</td>\n",
       "      <td>1</td>\n",
       "      <td>3</td>\n",
       "      <td>male</td>\n",
       "      <td>1</td>\n",
       "      <td>0</td>\n",
       "      <td>A/5 21171</td>\n",
       "    </tr>\n",
       "    <tr>\n",
       "      <th>1</th>\n",
       "      <td>38</td>\n",
       "      <td>C85</td>\n",
       "      <td>C</td>\n",
       "      <td>71.2833</td>\n",
       "      <td>Cumings, Mrs. John Bradley (Florence Briggs Th...</td>\n",
       "      <td>0</td>\n",
       "      <td>2</td>\n",
       "      <td>1</td>\n",
       "      <td>female</td>\n",
       "      <td>1</td>\n",
       "      <td>1</td>\n",
       "      <td>PC 17599</td>\n",
       "    </tr>\n",
       "    <tr>\n",
       "      <th>2</th>\n",
       "      <td>26</td>\n",
       "      <td></td>\n",
       "      <td>S</td>\n",
       "      <td>7.925</td>\n",
       "      <td>Heikkinen, Miss. Laina</td>\n",
       "      <td>0</td>\n",
       "      <td>3</td>\n",
       "      <td>3</td>\n",
       "      <td>female</td>\n",
       "      <td>0</td>\n",
       "      <td>1</td>\n",
       "      <td>STON/O2. 3101282</td>\n",
       "    </tr>\n",
       "    <tr>\n",
       "      <th>3</th>\n",
       "      <td>35</td>\n",
       "      <td>C123</td>\n",
       "      <td>S</td>\n",
       "      <td>53.1</td>\n",
       "      <td>Futrelle, Mrs. Jacques Heath (Lily May Peel)</td>\n",
       "      <td>0</td>\n",
       "      <td>4</td>\n",
       "      <td>1</td>\n",
       "      <td>female</td>\n",
       "      <td>1</td>\n",
       "      <td>1</td>\n",
       "      <td>113803</td>\n",
       "    </tr>\n",
       "    <tr>\n",
       "      <th>4</th>\n",
       "      <td>35</td>\n",
       "      <td></td>\n",
       "      <td>S</td>\n",
       "      <td>8.05</td>\n",
       "      <td>Allen, Mr. William Henry</td>\n",
       "      <td>0</td>\n",
       "      <td>5</td>\n",
       "      <td>3</td>\n",
       "      <td>male</td>\n",
       "      <td>0</td>\n",
       "      <td>0</td>\n",
       "      <td>373450</td>\n",
       "    </tr>\n",
       "    <tr>\n",
       "      <th>5</th>\n",
       "      <td></td>\n",
       "      <td></td>\n",
       "      <td>Q</td>\n",
       "      <td>8.4583</td>\n",
       "      <td>Moran, Mr. James</td>\n",
       "      <td>0</td>\n",
       "      <td>6</td>\n",
       "      <td>3</td>\n",
       "      <td>male</td>\n",
       "      <td>0</td>\n",
       "      <td>0</td>\n",
       "      <td>330877</td>\n",
       "    </tr>\n",
       "  </tbody>\n",
       "</table>\n",
       "</div>"
      ],
      "text/plain": [
       "  Age Cabin Embarked     Fare  \\\n",
       "0  22              S     7.25   \n",
       "1  38   C85        C  71.2833   \n",
       "2  26              S    7.925   \n",
       "3  35  C123        S     53.1   \n",
       "4  35              S     8.05   \n",
       "5                  Q   8.4583   \n",
       "\n",
       "                                                Name Parch PassengerId Pclass  \\\n",
       "0                            Braund, Mr. Owen Harris     0           1      3   \n",
       "1  Cumings, Mrs. John Bradley (Florence Briggs Th...     0           2      1   \n",
       "2                             Heikkinen, Miss. Laina     0           3      3   \n",
       "3       Futrelle, Mrs. Jacques Heath (Lily May Peel)     0           4      1   \n",
       "4                           Allen, Mr. William Henry     0           5      3   \n",
       "5                                   Moran, Mr. James     0           6      3   \n",
       "\n",
       "      Sex SibSp  Survived            Ticket  \n",
       "0    male     1         0         A/5 21171  \n",
       "1  female     1         1          PC 17599  \n",
       "2  female     0         1  STON/O2. 3101282  \n",
       "3  female     1         1            113803  \n",
       "4    male     0         0            373450  \n",
       "5    male     0         0            330877  "
      ]
     },
     "execution_count": 26,
     "metadata": {},
     "output_type": "execute_result"
    }
   ],
   "source": [
    "titanic_data_frame[0:6]  #显示6条数据"
   ]
  },
  {
   "cell_type": "markdown",
   "metadata": {},
   "source": [
    "从上面数据表中看出，数据列'Age','Cabin'中存在着缺省值，我们可以采取dropna()方法进行删除缺省值，但是这个方法有一个缺点，就是无法根据列来删除缺省值，因此我们打算从titanic_data中删除缺省值，再转换成dataframe。"
   ]
  },
  {
   "cell_type": "code",
   "execution_count": 27,
   "metadata": {},
   "outputs": [
    {
     "data": {
      "text/plain": [
       "714"
      ]
     },
     "execution_count": 27,
     "metadata": {},
     "output_type": "execute_result"
    }
   ],
   "source": [
    "titanic_data_has_age=[]  \n",
    "for age_record in titanic_data:\n",
    "    if age_record['Age']!='':\n",
    "        titanic_data_has_age.append(age_record)\n",
    "len(titanic_data_has_age)   "
   ]
  },
  {
   "cell_type": "code",
   "execution_count": 28,
   "metadata": {
    "collapsed": true
   },
   "outputs": [],
   "source": [
    "for titanic_data_record in titanic_data_has_age:             #修改'Age'中的数据类型\n",
    "    titanic_data_record['Age']=int(float(titanic_data_record['Age']))"
   ]
  },
  {
   "cell_type": "code",
   "execution_count": 29,
   "metadata": {
    "collapsed": true
   },
   "outputs": [],
   "source": [
    "titanic_data_frame_has_age=pd.DataFrame(titanic_data_has_age)  #将修改后的新数据转换成数据框格式"
   ]
  },
  {
   "cell_type": "code",
   "execution_count": 30,
   "metadata": {},
   "outputs": [
    {
     "data": {
      "text/html": [
       "<div>\n",
       "<style>\n",
       "    .dataframe thead tr:only-child th {\n",
       "        text-align: right;\n",
       "    }\n",
       "\n",
       "    .dataframe thead th {\n",
       "        text-align: left;\n",
       "    }\n",
       "\n",
       "    .dataframe tbody tr th {\n",
       "        vertical-align: top;\n",
       "    }\n",
       "</style>\n",
       "<table border=\"1\" class=\"dataframe\">\n",
       "  <thead>\n",
       "    <tr style=\"text-align: right;\">\n",
       "      <th></th>\n",
       "      <th>Age</th>\n",
       "      <th>Cabin</th>\n",
       "      <th>Embarked</th>\n",
       "      <th>Fare</th>\n",
       "      <th>Name</th>\n",
       "      <th>Parch</th>\n",
       "      <th>PassengerId</th>\n",
       "      <th>Pclass</th>\n",
       "      <th>Sex</th>\n",
       "      <th>SibSp</th>\n",
       "      <th>Survived</th>\n",
       "      <th>Ticket</th>\n",
       "    </tr>\n",
       "  </thead>\n",
       "  <tbody>\n",
       "    <tr>\n",
       "      <th>0</th>\n",
       "      <td>22</td>\n",
       "      <td></td>\n",
       "      <td>S</td>\n",
       "      <td>7.25</td>\n",
       "      <td>Braund, Mr. Owen Harris</td>\n",
       "      <td>0</td>\n",
       "      <td>1</td>\n",
       "      <td>3</td>\n",
       "      <td>male</td>\n",
       "      <td>1</td>\n",
       "      <td>0</td>\n",
       "      <td>A/5 21171</td>\n",
       "    </tr>\n",
       "    <tr>\n",
       "      <th>1</th>\n",
       "      <td>38</td>\n",
       "      <td>C85</td>\n",
       "      <td>C</td>\n",
       "      <td>71.2833</td>\n",
       "      <td>Cumings, Mrs. John Bradley (Florence Briggs Th...</td>\n",
       "      <td>0</td>\n",
       "      <td>2</td>\n",
       "      <td>1</td>\n",
       "      <td>female</td>\n",
       "      <td>1</td>\n",
       "      <td>1</td>\n",
       "      <td>PC 17599</td>\n",
       "    </tr>\n",
       "    <tr>\n",
       "      <th>2</th>\n",
       "      <td>26</td>\n",
       "      <td></td>\n",
       "      <td>S</td>\n",
       "      <td>7.925</td>\n",
       "      <td>Heikkinen, Miss. Laina</td>\n",
       "      <td>0</td>\n",
       "      <td>3</td>\n",
       "      <td>3</td>\n",
       "      <td>female</td>\n",
       "      <td>0</td>\n",
       "      <td>1</td>\n",
       "      <td>STON/O2. 3101282</td>\n",
       "    </tr>\n",
       "    <tr>\n",
       "      <th>3</th>\n",
       "      <td>35</td>\n",
       "      <td>C123</td>\n",
       "      <td>S</td>\n",
       "      <td>53.1</td>\n",
       "      <td>Futrelle, Mrs. Jacques Heath (Lily May Peel)</td>\n",
       "      <td>0</td>\n",
       "      <td>4</td>\n",
       "      <td>1</td>\n",
       "      <td>female</td>\n",
       "      <td>1</td>\n",
       "      <td>1</td>\n",
       "      <td>113803</td>\n",
       "    </tr>\n",
       "    <tr>\n",
       "      <th>4</th>\n",
       "      <td>35</td>\n",
       "      <td></td>\n",
       "      <td>S</td>\n",
       "      <td>8.05</td>\n",
       "      <td>Allen, Mr. William Henry</td>\n",
       "      <td>0</td>\n",
       "      <td>5</td>\n",
       "      <td>3</td>\n",
       "      <td>male</td>\n",
       "      <td>0</td>\n",
       "      <td>0</td>\n",
       "      <td>373450</td>\n",
       "    </tr>\n",
       "    <tr>\n",
       "      <th>5</th>\n",
       "      <td>54</td>\n",
       "      <td>E46</td>\n",
       "      <td>S</td>\n",
       "      <td>51.8625</td>\n",
       "      <td>McCarthy, Mr. Timothy J</td>\n",
       "      <td>0</td>\n",
       "      <td>7</td>\n",
       "      <td>1</td>\n",
       "      <td>male</td>\n",
       "      <td>0</td>\n",
       "      <td>0</td>\n",
       "      <td>17463</td>\n",
       "    </tr>\n",
       "  </tbody>\n",
       "</table>\n",
       "</div>"
      ],
      "text/plain": [
       "   Age Cabin Embarked     Fare  \\\n",
       "0   22              S     7.25   \n",
       "1   38   C85        C  71.2833   \n",
       "2   26              S    7.925   \n",
       "3   35  C123        S     53.1   \n",
       "4   35              S     8.05   \n",
       "5   54   E46        S  51.8625   \n",
       "\n",
       "                                                Name Parch PassengerId Pclass  \\\n",
       "0                            Braund, Mr. Owen Harris     0           1      3   \n",
       "1  Cumings, Mrs. John Bradley (Florence Briggs Th...     0           2      1   \n",
       "2                             Heikkinen, Miss. Laina     0           3      3   \n",
       "3       Futrelle, Mrs. Jacques Heath (Lily May Peel)     0           4      1   \n",
       "4                           Allen, Mr. William Henry     0           5      3   \n",
       "5                            McCarthy, Mr. Timothy J     0           7      1   \n",
       "\n",
       "      Sex SibSp  Survived            Ticket  \n",
       "0    male     1         0         A/5 21171  \n",
       "1  female     1         1          PC 17599  \n",
       "2  female     0         1  STON/O2. 3101282  \n",
       "3  female     1         1            113803  \n",
       "4    male     0         0            373450  \n",
       "5    male     0         0             17463  "
      ]
     },
     "execution_count": 30,
     "metadata": {},
     "output_type": "execute_result"
    }
   ],
   "source": [
    "titanic_data_frame_has_age[0:6] #确认是否成功删除缺省值"
   ]
  },
  {
   "cell_type": "markdown",
   "metadata": {
    "collapsed": true
   },
   "source": [
    "下一步，我们将根据年龄大小划分为三个不同的年龄段，分别为child、youth、old。"
   ]
  },
  {
   "cell_type": "code",
   "execution_count": 31,
   "metadata": {
    "collapsed": true
   },
   "outputs": [],
   "source": [
    "def child_youth_old(age):            #创建函数进行年龄段划分\n",
    "    if age<=18:         #18岁以下为儿童\n",
    "        return 'child'\n",
    "    elif age<=40:        #18-40岁为青年\n",
    "        return 'youth'\n",
    "    else:               #40以上为老年\n",
    "        return 'old'"
   ]
  },
  {
   "cell_type": "code",
   "execution_count": 32,
   "metadata": {
    "collapsed": true
   },
   "outputs": [],
   "source": [
    "titanic_data_frame_has_age['Person']=titanic_data_frame_has_age['Age'].apply(child_youth_old)    #创建新列‘Person’，并通过apply方法赋值"
   ]
  },
  {
   "cell_type": "code",
   "execution_count": 33,
   "metadata": {},
   "outputs": [
    {
     "data": {
      "text/html": [
       "<div>\n",
       "<style>\n",
       "    .dataframe thead tr:only-child th {\n",
       "        text-align: right;\n",
       "    }\n",
       "\n",
       "    .dataframe thead th {\n",
       "        text-align: left;\n",
       "    }\n",
       "\n",
       "    .dataframe tbody tr th {\n",
       "        vertical-align: top;\n",
       "    }\n",
       "</style>\n",
       "<table border=\"1\" class=\"dataframe\">\n",
       "  <thead>\n",
       "    <tr style=\"text-align: right;\">\n",
       "      <th></th>\n",
       "      <th>Age</th>\n",
       "      <th>Cabin</th>\n",
       "      <th>Embarked</th>\n",
       "      <th>Fare</th>\n",
       "      <th>Name</th>\n",
       "      <th>Parch</th>\n",
       "      <th>PassengerId</th>\n",
       "      <th>Pclass</th>\n",
       "      <th>Sex</th>\n",
       "      <th>SibSp</th>\n",
       "      <th>Survived</th>\n",
       "      <th>Ticket</th>\n",
       "      <th>Person</th>\n",
       "    </tr>\n",
       "  </thead>\n",
       "  <tbody>\n",
       "    <tr>\n",
       "      <th>0</th>\n",
       "      <td>22</td>\n",
       "      <td></td>\n",
       "      <td>S</td>\n",
       "      <td>7.25</td>\n",
       "      <td>Braund, Mr. Owen Harris</td>\n",
       "      <td>0</td>\n",
       "      <td>1</td>\n",
       "      <td>3</td>\n",
       "      <td>male</td>\n",
       "      <td>1</td>\n",
       "      <td>0</td>\n",
       "      <td>A/5 21171</td>\n",
       "      <td>youth</td>\n",
       "    </tr>\n",
       "    <tr>\n",
       "      <th>1</th>\n",
       "      <td>38</td>\n",
       "      <td>C85</td>\n",
       "      <td>C</td>\n",
       "      <td>71.2833</td>\n",
       "      <td>Cumings, Mrs. John Bradley (Florence Briggs Th...</td>\n",
       "      <td>0</td>\n",
       "      <td>2</td>\n",
       "      <td>1</td>\n",
       "      <td>female</td>\n",
       "      <td>1</td>\n",
       "      <td>1</td>\n",
       "      <td>PC 17599</td>\n",
       "      <td>youth</td>\n",
       "    </tr>\n",
       "    <tr>\n",
       "      <th>2</th>\n",
       "      <td>26</td>\n",
       "      <td></td>\n",
       "      <td>S</td>\n",
       "      <td>7.925</td>\n",
       "      <td>Heikkinen, Miss. Laina</td>\n",
       "      <td>0</td>\n",
       "      <td>3</td>\n",
       "      <td>3</td>\n",
       "      <td>female</td>\n",
       "      <td>0</td>\n",
       "      <td>1</td>\n",
       "      <td>STON/O2. 3101282</td>\n",
       "      <td>youth</td>\n",
       "    </tr>\n",
       "    <tr>\n",
       "      <th>3</th>\n",
       "      <td>35</td>\n",
       "      <td>C123</td>\n",
       "      <td>S</td>\n",
       "      <td>53.1</td>\n",
       "      <td>Futrelle, Mrs. Jacques Heath (Lily May Peel)</td>\n",
       "      <td>0</td>\n",
       "      <td>4</td>\n",
       "      <td>1</td>\n",
       "      <td>female</td>\n",
       "      <td>1</td>\n",
       "      <td>1</td>\n",
       "      <td>113803</td>\n",
       "      <td>youth</td>\n",
       "    </tr>\n",
       "    <tr>\n",
       "      <th>4</th>\n",
       "      <td>35</td>\n",
       "      <td></td>\n",
       "      <td>S</td>\n",
       "      <td>8.05</td>\n",
       "      <td>Allen, Mr. William Henry</td>\n",
       "      <td>0</td>\n",
       "      <td>5</td>\n",
       "      <td>3</td>\n",
       "      <td>male</td>\n",
       "      <td>0</td>\n",
       "      <td>0</td>\n",
       "      <td>373450</td>\n",
       "      <td>youth</td>\n",
       "    </tr>\n",
       "    <tr>\n",
       "      <th>5</th>\n",
       "      <td>54</td>\n",
       "      <td>E46</td>\n",
       "      <td>S</td>\n",
       "      <td>51.8625</td>\n",
       "      <td>McCarthy, Mr. Timothy J</td>\n",
       "      <td>0</td>\n",
       "      <td>7</td>\n",
       "      <td>1</td>\n",
       "      <td>male</td>\n",
       "      <td>0</td>\n",
       "      <td>0</td>\n",
       "      <td>17463</td>\n",
       "      <td>old</td>\n",
       "    </tr>\n",
       "  </tbody>\n",
       "</table>\n",
       "</div>"
      ],
      "text/plain": [
       "   Age Cabin Embarked     Fare  \\\n",
       "0   22              S     7.25   \n",
       "1   38   C85        C  71.2833   \n",
       "2   26              S    7.925   \n",
       "3   35  C123        S     53.1   \n",
       "4   35              S     8.05   \n",
       "5   54   E46        S  51.8625   \n",
       "\n",
       "                                                Name Parch PassengerId Pclass  \\\n",
       "0                            Braund, Mr. Owen Harris     0           1      3   \n",
       "1  Cumings, Mrs. John Bradley (Florence Briggs Th...     0           2      1   \n",
       "2                             Heikkinen, Miss. Laina     0           3      3   \n",
       "3       Futrelle, Mrs. Jacques Heath (Lily May Peel)     0           4      1   \n",
       "4                           Allen, Mr. William Henry     0           5      3   \n",
       "5                            McCarthy, Mr. Timothy J     0           7      1   \n",
       "\n",
       "      Sex SibSp  Survived            Ticket Person  \n",
       "0    male     1         0         A/5 21171  youth  \n",
       "1  female     1         1          PC 17599  youth  \n",
       "2  female     0         1  STON/O2. 3101282  youth  \n",
       "3  female     1         1            113803  youth  \n",
       "4    male     0         0            373450  youth  \n",
       "5    male     0         0             17463    old  "
      ]
     },
     "execution_count": 33,
     "metadata": {},
     "output_type": "execute_result"
    }
   ],
   "source": [
    "titanic_data_frame_has_age[0:6]"
   ]
  },
  {
   "cell_type": "code",
   "execution_count": 34,
   "metadata": {},
   "outputs": [
    {
     "data": {
      "text/plain": [
       "<seaborn.axisgrid.FacetGrid at 0xc7e1518>"
      ]
     },
     "execution_count": 34,
     "metadata": {},
     "output_type": "execute_result"
    },
    {
     "data": {
      "image/png": "[encoded data removed]",
      "text/plain": [
       "<matplotlib.figure.Figure at 0xcf6ff98>"
      ]
     },
     "metadata": {},
     "output_type": "display_data"
    }
   ],
   "source": [
    "sns.factorplot('Person',data=titanic_data_frame_has_age,kind='count')  #绘出不同年龄段的人数情况"
   ]
  },
  {
   "cell_type": "code",
   "execution_count": 35,
   "metadata": {},
   "outputs": [
    {
     "data": {
      "text/plain": [
       "<seaborn.axisgrid.FacetGrid at 0xd3c9da0>"
      ]
     },
     "execution_count": 35,
     "metadata": {},
     "output_type": "execute_result"
    },
    {
     "data": {
      "image/png": "[encoded data removed]",
      "text/plain": [
       "<matplotlib.figure.Figure at 0xd1dbd68>"
      ]
     },
     "metadata": {},
     "output_type": "display_data"
    }
   ],
   "source": [
    "sns.factorplot('Person',data=titanic_data_frame_has_age,hue='Survived',kind='count')  #不同年龄段的生还、死亡情况"
   ]
  },
  {
   "cell_type": "markdown",
   "metadata": {},
   "source": [
    "从上图中可以看出，儿童中死亡和生还各占到一半，下面计算他们各自的生还率和死亡率。"
   ]
  },
  {
   "cell_type": "code",
   "execution_count": 36,
   "metadata": {
    "collapsed": true
   },
   "outputs": [],
   "source": [
    "child=[] #儿童\n",
    "youth =[] #青年\n",
    "old_man=[] #老年\n",
    "for age_record in titanic_data_has_age:\n",
    "    if age_record['Age']<=18:  \n",
    "        child.append(age_record)\n",
    "    elif age_record['Age']<=40: \n",
    "        youth.append(age_record)\n",
    "    else:\n",
    "        old_man.append(age_record)        "
   ]
  },
  {
   "cell_type": "code",
   "execution_count": 37,
   "metadata": {},
   "outputs": [
    {
     "name": "stdout",
     "output_type": "stream",
     "text": [
      "儿童生还率：0.503597122302,儿童死亡率：0.496402877698\n",
      "青年生还率：0.385922330097,青年死亡率：0.614077669903\n",
      "老年生还率：0.374233128834,老年死亡率：0.625766871166\n"
     ]
    }
   ],
   "source": [
    "print '儿童生还率：%s,儿童死亡率：%s' %(survived_and_died_rate(child))\n",
    "print '青年生还率：%s,青年死亡率：%s' %(survived_and_died_rate(youth))\n",
    "print '老年生还率：%s,老年死亡率：%s' %(survived_and_died_rate(old_man))"
   ]
  },
  {
   "cell_type": "markdown",
   "metadata": {},
   "source": [
    "从上面数据可以看出，儿童的生还率最高，可能原因是儿童会优先被救助，登上逃生船。"
   ]
  },
  {
   "cell_type": "markdown",
   "metadata": {},
   "source": [
    " **Conclusion:**\n",
    "针对提出的问题：哪些因素影响生还率？我们从性别、年龄、船舱等级、出发港口四个方面进行了分析，分别得出四个结果：一是女性生还率高于男性；二是儿童的生还率高于其他年龄段；三是一等舱的生还率高于其他级别的船舱；四是Cherbourg出发的港口生还率高于其他港口。但是上述整个分析过程中，计算不同因素的生还率、死亡率时，基数各不相同，计算出来的生还率、死亡率进行比较时，得出的结果缺乏一定的说服力。比如Cherbourg出发港口的人数远超过其他两个港口之和。通过这次分析，我们暂且得到结论是：性别、年龄、船舱等级影响着船员的生还率。"
   ]
  },
  {
   "cell_type": "code",
   "execution_count": null,
   "metadata": {
    "collapsed": true
   },
   "outputs": [],
   "source": []
  }
 ],
 "metadata": {
  "kernelspec": {
   "display_name": "Python 2",
   "language": "python",
   "name": "python2"
  },
  "language_info": {
   "codemirror_mode": {
    "name": "ipython",
    "version": 2
   },
   "file_extension": ".py",
   "mimetype": "text/x-python",
   "name": "python",
   "nbconvert_exporter": "python",
   "pygments_lexer": "ipython2",
   "version": "2.7.13"
  }
 },
 "nbformat": 4,
 "nbformat_minor": 2
}
